{
  "nbformat": 4,
  "nbformat_minor": 0,
  "metadata": {
    "colab": {
      "provenance": [],
      "include_colab_link": true
    },
    "kernelspec": {
      "name": "python3",
      "display_name": "Python 3"
    }
  },
  "cells": [
    {
      "cell_type": "markdown",
      "metadata": {
        "id": "view-in-github",
        "colab_type": "text"
      },
      "source": [
        "<a href=\"https://colab.research.google.com/github/peiyi0820/5-22-Assignment-Python-Practice/blob/main/python5_8.ipynb\" target=\"_parent\"><img src=\"https://colab.research.google.com/assets/colab-badge.svg\" alt=\"Open In Colab\"/></a>"
      ]
    },
    {
      "cell_type": "code",
      "metadata": {
        "id": "QACmPzdtIz3y",
        "colab": {
          "base_uri": "https://localhost:8080/"
        },
        "outputId": "f5b38d1c-6edc-4cb0-a215-5ea209776d26"
      },
      "source": [
        "# print\n",
        "print(\"Hello World\")\n",
        "\n",
        "# 練習1\n",
        "#試著print出自己想要的內容"
      ],
      "execution_count": null,
      "outputs": [
        {
          "output_type": "stream",
          "name": "stdout",
          "text": [
            "Hello World\n"
          ]
        }
      ]
    },
    {
      "cell_type": "code",
      "source": [
        "# 字符串 (string)\n",
        "name = \"Ray\"\n",
        "print(name)\n",
        "\n",
        "name2 = \"Liu\"\n",
        "print(name + name2)\n",
        "\n",
        "# 數字 (number)\n",
        "age = 16\n",
        "print(age)\n",
        "\n",
        "# 布爾值 (boolean)\n",
        "is_student = True\n",
        "print(is_student)\n",
        "\n",
        "# 列表  (list)\n",
        "scores = [90, 80, 70, 85]\n",
        "print(scores)\n",
        "\n",
        "# 字典 (dictionary)\n",
        "grades = {\n",
        "    'Math': 90,\n",
        "    'English': 80,\n",
        "    'Physics': 70,\n",
        "    'Chemistry': 85\n",
        "}\n",
        "print(grades)"
      ],
      "metadata": {
        "id": "fOSqgkVvESTx",
        "outputId": "7f3e50cb-37f6-44c1-8790-7c5e02e7fcd1",
        "colab": {
          "base_uri": "https://localhost:8080/"
        }
      },
      "execution_count": null,
      "outputs": [
        {
          "output_type": "stream",
          "name": "stdout",
          "text": [
            "Alice\n",
            "16\n",
            "True\n",
            "[90, 80, 70, 85]\n",
            "{'Math': 90, 'English': 80, 'Physics': 70, 'Chemistry': 85}\n"
          ]
        }
      ]
    },
    {
      "cell_type": "code",
      "metadata": {
        "colab": {
          "base_uri": "https://localhost:8080/",
          "height": 245
        },
        "id": "YhCJnQ9Ki_2C",
        "outputId": "447a9433-e815-4a7b-a943-00a5e462f974"
      },
      "source": [
        "fifth_letter = \"Share a doc to me\"\n",
        "# [0, 1, 2, 3, 4]\n",
        "# index 是從 0 開始\n",
        "print(fifth_letter[4])\n",
        "\n",
        "a = 5\n",
        "b = 10\n",
        "c = a / b\n",
        "print(\"c=\"+str(c))\n",
        "a = a % b\n",
        "print(\"a=\"+a)\n",
        "d = (a+b)*c\n",
        "print(\"d=\"+d)"
      ],
      "execution_count": null,
      "outputs": [
        {
          "output_type": "stream",
          "name": "stdout",
          "text": [
            "e\n",
            "c=0.5\n"
          ]
        },
        {
          "output_type": "error",
          "ename": "TypeError",
          "evalue": "can only concatenate str (not \"int\") to str",
          "traceback": [
            "\u001b[0;31m---------------------------------------------------------------------------\u001b[0m",
            "\u001b[0;31mTypeError\u001b[0m                                 Traceback (most recent call last)",
            "\u001b[0;32m<ipython-input-12-89d07a2c1995>\u001b[0m in \u001b[0;36m<cell line: 0>\u001b[0;34m()\u001b[0m\n\u001b[1;32m      9\u001b[0m \u001b[0mprint\u001b[0m\u001b[0;34m(\u001b[0m\u001b[0;34m\"c=\"\u001b[0m\u001b[0;34m+\u001b[0m\u001b[0mstr\u001b[0m\u001b[0;34m(\u001b[0m\u001b[0mc\u001b[0m\u001b[0;34m)\u001b[0m\u001b[0;34m)\u001b[0m\u001b[0;34m\u001b[0m\u001b[0;34m\u001b[0m\u001b[0m\n\u001b[1;32m     10\u001b[0m \u001b[0ma\u001b[0m \u001b[0;34m=\u001b[0m \u001b[0ma\u001b[0m \u001b[0;34m%\u001b[0m \u001b[0mb\u001b[0m\u001b[0;34m\u001b[0m\u001b[0;34m\u001b[0m\u001b[0m\n\u001b[0;32m---> 11\u001b[0;31m \u001b[0mprint\u001b[0m\u001b[0;34m(\u001b[0m\u001b[0;34m\"a=\"\u001b[0m\u001b[0;34m+\u001b[0m\u001b[0ma\u001b[0m\u001b[0;34m)\u001b[0m\u001b[0;34m\u001b[0m\u001b[0;34m\u001b[0m\u001b[0m\n\u001b[0m\u001b[1;32m     12\u001b[0m \u001b[0md\u001b[0m \u001b[0;34m=\u001b[0m \u001b[0;34m(\u001b[0m\u001b[0ma\u001b[0m\u001b[0;34m+\u001b[0m\u001b[0mb\u001b[0m\u001b[0;34m)\u001b[0m\u001b[0;34m*\u001b[0m\u001b[0mc\u001b[0m\u001b[0;34m\u001b[0m\u001b[0;34m\u001b[0m\u001b[0m\n\u001b[1;32m     13\u001b[0m \u001b[0mprint\u001b[0m\u001b[0;34m(\u001b[0m\u001b[0;34m\"d=\"\u001b[0m\u001b[0;34m+\u001b[0m\u001b[0md\u001b[0m\u001b[0;34m)\u001b[0m\u001b[0;34m\u001b[0m\u001b[0;34m\u001b[0m\u001b[0m\n",
            "\u001b[0;31mTypeError\u001b[0m: can only concatenate str (not \"int\") to str"
          ]
        }
      ]
    },
    {
      "cell_type": "code",
      "metadata": {
        "id": "Zc6rCSL2I8CE",
        "colab": {
          "base_uri": "https://localhost:8080/"
        },
        "outputId": "84d957d0-b9a7-4412-b756-7b281216348b"
      },
      "source": [
        "# python型別一: number\n",
        "\n",
        "a = 5\n",
        "b = 8\n",
        "c = a * b\n",
        "a = a * b\n",
        "\n",
        "#問題1：請問a跟c現在是一樣的嗎?\n",
        "print(a)\n",
        "print(c)\n",
        "\n",
        "\n",
        "\n",
        "#練習2: 試著自己瞭解看看以下內容:\n",
        "\n",
        "firstNum = 20\n",
        "secondNum = 6\n",
        "\n",
        "ans = firstNum / secondNum\n",
        "ans = firstNum % secondNum\n",
        "\n"
      ],
      "execution_count": null,
      "outputs": [
        {
          "output_type": "stream",
          "name": "stdout",
          "text": [
            "40\n",
            "40\n"
          ]
        }
      ]
    },
    {
      "cell_type": "code",
      "metadata": {
        "id": "YligUVMgMA6D",
        "colab": {
          "base_uri": "https://localhost:8080/"
        },
        "outputId": "7e2ec0e5-dde6-4fb9-aa0d-b6d5c751dd9e"
      },
      "source": [
        "# python型別二: string\n",
        "\n",
        "word = \"Hello\"\n",
        "\n",
        "\n",
        "fifth_letter = \"Share\"\n",
        "print(fifth_letter[0])\n",
        "\n",
        "\n",
        "list_letter = [\"share\", \"account\", \"passcode\"]\n",
        "print(list_letter[0])\n",
        "\n"
      ],
      "execution_count": null,
      "outputs": [
        {
          "output_type": "stream",
          "name": "stdout",
          "text": [
            "S\n",
            "share\n"
          ]
        }
      ]
    },
    {
      "cell_type": "code",
      "source": [
        "a = 'Tiger'\n",
        "b = 'tiger'\n",
        "\n",
        "print(a == b)\n",
        "\n",
        "# number, string, list, Boolean\n",
        "\n",
        "# Boolean: True / False"
      ],
      "metadata": {
        "colab": {
          "base_uri": "https://localhost:8080/"
        },
        "id": "SoN9NTcEO1Xb",
        "outputId": "b9313dd1-2535-4d86-be91-8341b5aa280d"
      },
      "execution_count": null,
      "outputs": [
        {
          "output_type": "stream",
          "name": "stdout",
          "text": [
            "False\n"
          ]
        }
      ]
    },
    {
      "cell_type": "code",
      "source": [
        "animal = \"Dog is an Animal\"\n",
        "\n",
        "print (len(animal))\n",
        "print (animal.lower())\n",
        "print (animal.upper())\n",
        "\n",
        "age = 20\n",
        "\n",
        "mood = \"Happy\"\n",
        "\n",
        "name = \"Dog\"\n",
        "\n",
        "result = \"I'm \" + age #str(age)\n",
        "\n",
        "print (result)\n",
        "#print (mood + name)"
      ],
      "metadata": {
        "colab": {
          "base_uri": "https://localhost:8080/",
          "height": 263
        },
        "id": "DT6rekKCDDC9",
        "outputId": "65cd8b92-d084-4403-be0d-23fb87d8bf6c"
      },
      "execution_count": null,
      "outputs": [
        {
          "output_type": "stream",
          "name": "stdout",
          "text": [
            "16\n",
            "dog is an animal\n",
            "DOG IS AN ANIMAL\n"
          ]
        },
        {
          "output_type": "error",
          "ename": "TypeError",
          "evalue": "can only concatenate str (not \"int\") to str",
          "traceback": [
            "\u001b[0;31m---------------------------------------------------------------------------\u001b[0m",
            "\u001b[0;31mTypeError\u001b[0m                                 Traceback (most recent call last)",
            "\u001b[0;32m<ipython-input-49-6da3a0e2462b>\u001b[0m in \u001b[0;36m<cell line: 0>\u001b[0;34m()\u001b[0m\n\u001b[1;32m     11\u001b[0m \u001b[0mname\u001b[0m \u001b[0;34m=\u001b[0m \u001b[0;34m\"Dog\"\u001b[0m\u001b[0;34m\u001b[0m\u001b[0;34m\u001b[0m\u001b[0m\n\u001b[1;32m     12\u001b[0m \u001b[0;34m\u001b[0m\u001b[0m\n\u001b[0;32m---> 13\u001b[0;31m \u001b[0mresult\u001b[0m \u001b[0;34m=\u001b[0m \u001b[0;34m\"I'm \"\u001b[0m \u001b[0;34m+\u001b[0m \u001b[0mage\u001b[0m \u001b[0;31m#str(age)\u001b[0m\u001b[0;34m\u001b[0m\u001b[0;34m\u001b[0m\u001b[0m\n\u001b[0m\u001b[1;32m     14\u001b[0m \u001b[0;34m\u001b[0m\u001b[0m\n\u001b[1;32m     15\u001b[0m \u001b[0mprint\u001b[0m \u001b[0;34m(\u001b[0m\u001b[0mresult\u001b[0m\u001b[0;34m)\u001b[0m\u001b[0;34m\u001b[0m\u001b[0;34m\u001b[0m\u001b[0m\n",
            "\u001b[0;31mTypeError\u001b[0m: can only concatenate str (not \"int\") to str"
          ]
        }
      ]
    },
    {
      "cell_type": "code",
      "source": [
        "# 課堂練習1:\n",
        "\n",
        "sent = \"Today is a good day!\"\n",
        "\n",
        "# 1: print 出句子長度\n",
        "\n",
        "# 2: 把句子轉成大寫\n",
        "\n",
        "# 3: 把句子轉小寫\n",
        "\n"
      ],
      "metadata": {
        "id": "Ue7m-5qKDQLF"
      },
      "execution_count": null,
      "outputs": []
    },
    {
      "cell_type": "code",
      "metadata": {
        "id": "qNZo9nf7SYdE",
        "colab": {
          "base_uri": "https://localhost:8080/"
        },
        "outputId": "07c68d09-24d8-4ef7-c0d5-3e4716f446c2"
      },
      "source": [
        "#補充 print\n",
        "\n",
        "string_1 = \"San Francisco\"\n",
        "string_2 = \"Silicon Valley\"\n",
        "string_3 = \"Taipei\"\n",
        "string_4 = '101'\n",
        "\n",
        "\n",
        "\n",
        "print(\"Let's go to %s. It's very close to %s.\" % (string_3, string_4))\n",
        "print(\"Let's go to %s. It's very close to %s.\" % (string_2, string_1))\n",
        "\n",
        "\n",
        "total = 20 / 6\n",
        "\n",
        "print(\"It is a float number %.9f\" % total)\n",
        "print(\"%d\" % total)"
      ],
      "execution_count": null,
      "outputs": [
        {
          "output_type": "stream",
          "name": "stdout",
          "text": [
            "Let's go to Taipei. It's very close to 101.\n",
            "Let's go to Silicon Valley. It's very close to San Francisco.\n",
            "It is a float number 3.333333333\n",
            "3.333333\n"
          ]
        }
      ]
    },
    {
      "cell_type": "code",
      "source": [
        "# 課堂練習2\n",
        "\n",
        "# 請寫出 2個變數，並利用 %s print 出\n",
        "\n",
        "\n",
        "\n",
        "a = \"test\"\n",
        "b = \"English\"\n",
        "\n",
        "print()"
      ],
      "metadata": {
        "colab": {
          "base_uri": "https://localhost:8080/"
        },
        "id": "ItXq8aHzGbW2",
        "outputId": "92390763-87e4-44e9-edde-dee9614cd5fc"
      },
      "execution_count": null,
      "outputs": [
        {
          "output_type": "stream",
          "name": "stdout",
          "text": [
            "The subject of test is English.\n"
          ]
        }
      ]
    },
    {
      "cell_type": "code",
      "source": [
        "print(\"The subject of %s is %s.\" % (a, b))"
      ],
      "metadata": {
        "id": "YFfgy9o1oqvb"
      },
      "execution_count": null,
      "outputs": []
    },
    {
      "cell_type": "code",
      "metadata": {
        "id": "JhdMbJlgY8Wd",
        "colab": {
          "base_uri": "https://localhost:8080/",
          "height": 51
        },
        "outputId": "efe95322-d367-46e2-c8e9-d850caee4971"
      },
      "source": [
        "# Conditional 條件式邏輯\n",
        "\n",
        "\n",
        "#情境一：去超市買蘋果\n",
        "\n",
        "box = \"orange\"\n",
        "\n",
        "if box == 'apple':\n",
        "  print (\"found\")\n",
        "else:\n",
        "  print (\"not found\")\n",
        "\n",
        "\n",
        "#情境二 去超市買蘋果，如果沒有頻果就買香蕉\n",
        "\n",
        "b = \"pineapple\"\n",
        "\n",
        "if b == \"apple\":\n",
        "  print (\"%s is my first choice\" % b)\n",
        "elif b == \"banana\":\n",
        "  print (\"%s is my second choice\" % b)\n",
        "else:\n",
        "  print (\"not found\")\n",
        "  print(\"Hi\")\n",
        "  print(\"Test\")\n"
      ],
      "execution_count": null,
      "outputs": [
        {
          "output_type": "stream",
          "text": [
            "not found\n",
            "Hi\n"
          ],
          "name": "stdout"
        }
      ]
    },
    {
      "cell_type": "code",
      "source": [
        "# 課堂練習3\n",
        "\n",
        "text = \"test\"\n",
        "\n",
        "# .lower() .upper()\n",
        "# if text is lower: print('all text are lower') / if your text is upper, then print('all text are upper')\n",
        "\n",
        "\n",
        "if text == text.lower():\n",
        "  print('all text are lower')\n",
        "elif text == text.upper():\n",
        "  print(\"all text are upper\")\n",
        "else:\n",
        "  print('bad result')"
      ],
      "metadata": {
        "colab": {
          "base_uri": "https://localhost:8080/"
        },
        "id": "oQzjTjCZMIUX",
        "outputId": "833b7891-41e2-4f07-cfd5-c9d418c3d5bb"
      },
      "execution_count": null,
      "outputs": [
        {
          "output_type": "stream",
          "name": "stdout",
          "text": [
            "all text are lower\n"
          ]
        }
      ]
    },
    {
      "cell_type": "code",
      "metadata": {
        "id": "WTQgrfLaaE4K",
        "colab": {
          "base_uri": "https://localhost:8080/"
        },
        "outputId": "ff693789-93af-4701-edf9-cf4f02087a4e"
      },
      "source": [
        "# function\n",
        "\n",
        "\n",
        "# function就像是某種機器，你把原料丟進去，就會幫你做出東西來\n",
        "\n",
        "\n",
        "def burgerMaker(material1, material2, material3):\n",
        "\tprint (\"%s + %s + %s is a burger! \" % (material1, material2, material3))\n",
        "\n",
        "burgerMaker(\"meat\", \"bread\", \"lettuce\")\n",
        "\n",
        "\n",
        "#function的概念是把程式碼封裝起來重複使用\n",
        "#字母轉換\n",
        "\n",
        "def wordDetect(s):\n",
        "  if len(s) >= 5:\n",
        "    print (\"original\")\n",
        "  elif s == s.lower():\n",
        "    print (\"lower\")\n",
        "  elif s == s.upper():\n",
        "    print (\"upper\")\n",
        "  else:\n",
        "    print (\"else result\")\n",
        "\n",
        "wordDetect(\"Hello\")\n",
        "\n",
        "#問題2：我們可以用if if else嗎？\n",
        "\n",
        "#練習4: 模仿wordDetect function，並試著改寫"
      ],
      "execution_count": null,
      "outputs": [
        {
          "output_type": "stream",
          "name": "stdout",
          "text": [
            "meat + bread + lettuce is a burger! \n",
            "original\n"
          ]
        }
      ]
    },
    {
      "cell_type": "code",
      "metadata": {
        "id": "Jhyecm-UeODD",
        "colab": {
          "base_uri": "https://localhost:8080/",
          "height": 35
        },
        "outputId": "64a21109-e275-4a3a-c9b9-9b69d76164db"
      },
      "source": [
        "#return\n",
        "\n",
        "def wordUpper(s):\n",
        "  return s.upper();\n",
        "\n",
        "wordUpper(\"test\")\n",
        "\n",
        "\n",
        "#用print就很方便了？ 為什麼還需要return?\n",
        "\n",
        "#print  是輸出結果\n",
        "#return  是函式的返回值，用來將計算結果傳遞給外部程式。\n",
        "\n",
        "\n"
      ],
      "execution_count": null,
      "outputs": [
        {
          "output_type": "execute_result",
          "data": {
            "text/plain": [
              "'TEST'"
            ],
            "application/vnd.google.colaboratory.intrinsic+json": {
              "type": "string"
            }
          },
          "metadata": {},
          "execution_count": 46
        }
      ]
    },
    {
      "cell_type": "markdown",
      "source": [
        "想像你是一隻大貓熊，今天在竹林裡找到一堆竹葉（計算結果）。\n",
        "\n",
        "• 加了 return：你會把竹葉帶回家，存起來給家人使用。\n",
        "\n",
        "• 不加 return，只用 print：你只是站在竹林裡大聲喊「我找到竹葉了！」但什麼都沒帶回家，家人只能乾瞪眼。"
      ],
      "metadata": {
        "id": "8hgc_KV7sJcr"
      }
    },
    {
      "cell_type": "code",
      "source": [
        "#練習4: 試著做一個function，名字叫wordTransForm，有兩個input。會將兩個文字轉換成大寫相加\n",
        "\n",
        "'''\n",
        "hint:\n",
        "\n",
        "def wordTransForm(string1, string2):\n",
        "  return ...\n",
        "\n",
        "wordTransForm()\n",
        "'''\n"
      ],
      "metadata": {
        "id": "AHh1dQ4srLbR"
      },
      "execution_count": null,
      "outputs": []
    },
    {
      "cell_type": "code",
      "metadata": {
        "id": "d-fhD_Twi0zT",
        "colab": {
          "base_uri": "https://localhost:8080/",
          "height": 51
        },
        "outputId": "2ed322e7-8c0f-4219-960b-f0272a6d095c"
      },
      "source": [
        "#補充 Library: 已經寫好的function!\n",
        "\n",
        "import math\n",
        "\n",
        "# Square root 開根號\n",
        "math.sqrt(25)\n",
        "\n",
        "#from module import function\n",
        "\n",
        "from math import sqrt\n",
        "\n",
        "sqrt(25)\n"
      ],
      "execution_count": null,
      "outputs": [
        {
          "output_type": "stream",
          "text": [
            "5.0\n",
            "5.0\n"
          ],
          "name": "stdout"
        }
      ]
    },
    {
      "cell_type": "code",
      "metadata": {
        "colab": {
          "base_uri": "https://localhost:8080/"
        },
        "id": "uPjirngjZP_u",
        "outputId": "e8fa1876-8f3f-4f3d-dc40-b53cf983da91"
      },
      "source": [
        "string_1 = \"test\"\n",
        "print(string_1.upper())"
      ],
      "execution_count": null,
      "outputs": [
        {
          "output_type": "stream",
          "text": [
            "TEST\n"
          ],
          "name": "stdout"
        }
      ]
    },
    {
      "cell_type": "code",
      "metadata": {
        "id": "_ECPfUxvYUcq",
        "colab": {
          "base_uri": "https://localhost:8080/"
        },
        "outputId": "c7da8959-86ef-4e9c-8ad8-9a4d1190d585"
      },
      "source": [
        "# python型別三: list\n",
        "\n",
        "#list\n",
        "#list就好像置物櫃\n",
        "#list_name = [item_1, item_2]\n",
        "\n",
        "zoo_animals = [\"Dog\", \"Cat\", \"Bird\",\"Tiger\", \"Elephant\"];\n",
        "\n",
        "\n",
        "if len(zoo_animals) > 3:\n",
        "  print (\"The first animal at the zoo is the \" + zoo_animals[0])\n",
        "  print (\"The second animal at the zoo is the \" + zoo_animals[1])\n",
        "  print (\"The third animal at the zoo is the \" + zoo_animals[2])\n",
        "  print (\"The fourth animal at the zoo is the \" + zoo_animals[3])\n",
        "\n",
        "\n",
        "\n",
        "\n",
        "\n",
        "\n",
        "\n",
        "\n",
        "def countAnimals(a):\n",
        "  return len(a)\n",
        "\n",
        "num = countAnimals(zoo_animals)\n",
        "print(num)"
      ],
      "execution_count": null,
      "outputs": [
        {
          "output_type": "stream",
          "name": "stdout",
          "text": [
            "The first animal at the zoo is the Dog\n",
            "The second animal at the zoo is the Cat\n",
            "The third animal at the zoo is the Bird\n",
            "The fourth animal at the zoo is the Tiger\n",
            "5\n"
          ]
        }
      ]
    },
    {
      "cell_type": "code",
      "metadata": {
        "id": "KDkJnZKTkuta",
        "colab": {
          "base_uri": "https://localhost:8080/"
        },
        "outputId": "78fea948-c17a-4d2f-8158-67756e91ab02"
      },
      "source": [
        "#補充 List Slicing\n",
        "\n",
        "suitcase = [\n",
        "\"sunglasses\",\n",
        "\"hat\",\n",
        "\"passport\",\n",
        "\"laptop\",\n",
        "\"suit\",\n",
        "\"shoes\"\n",
        "]\n",
        "\n",
        "\n",
        "# The first and second items (index zero and one)\n",
        "first = suitcase[0:2] # 0 之後, 2 之前 0 <= x < 2\n",
        "#print (first)\n",
        "\n",
        "# Third and fourth items (index two and three)\n",
        "middle = suitcase[2:4]\n",
        "#print (middle)\n",
        "\n",
        "# The last two items (index four and five)\n",
        "last =  suitcase[4:6]\n",
        "print (last)"
      ],
      "execution_count": null,
      "outputs": [
        {
          "output_type": "stream",
          "name": "stdout",
          "text": [
            "['suit', 'shoes']\n"
          ]
        }
      ]
    },
    {
      "cell_type": "code",
      "metadata": {
        "id": "nKBGOQnMk4RZ",
        "colab": {
          "base_uri": "https://localhost:8080/"
        },
        "outputId": "f91b25e6-2c68-4265-b70f-62bae3d38d5f"
      },
      "source": [
        "animals = \"catdogfrog\"\n",
        "\n",
        "# The first three characters of animals\n",
        "cat = animals[:3]\n",
        "print (cat)\n",
        "# The fourth through sixth characters\n",
        "dog = animals[3:]\n",
        "print (dog)\n",
        "\n",
        "# From the seventh character to the end\n",
        "frog = animals[6:]\n",
        "print (frog)"
      ],
      "execution_count": null,
      "outputs": [
        {
          "output_type": "stream",
          "name": "stdout",
          "text": [
            "cat\n",
            "dogfrog\n",
            "frog\n"
          ]
        }
      ]
    },
    {
      "cell_type": "code",
      "source": [
        "# 練習\n",
        "\n",
        "zoo_animals = [\"Dog\", \"Cat\", \"Bird\",\"Tiger\", \"Elephant\"];\n",
        "\n",
        "\n",
        "# 檢查 Animals 裡面有沒有超過 2 隻動物，如果有的話 print (\"yes\") , 沒有的話 print (\"no\")\n",
        "\n",
        "\n",
        "# len()\n",
        "# if else\n",
        "\n",
        "def checkAnimals(animals):\n",
        "  if (len(animals) > 2):\n",
        "    print('yes')\n",
        "  else:\n",
        "    print('no')\n",
        "\n",
        "\n",
        "\n",
        "checkAnimals(zoo_animals) #  yes"
      ],
      "metadata": {
        "colab": {
          "base_uri": "https://localhost:8080/"
        },
        "id": "VivG7XYkGOZd",
        "outputId": "c8d1786e-aa97-4cc2-bc18-4356925b5fa5"
      },
      "execution_count": null,
      "outputs": [
        {
          "output_type": "stream",
          "name": "stdout",
          "text": [
            "yes\n"
          ]
        }
      ]
    },
    {
      "cell_type": "code",
      "metadata": {
        "id": "vA3VgeJUmTAa",
        "colab": {
          "base_uri": "https://localhost:8080/"
        },
        "outputId": "5184777b-e4c8-46ad-81c6-c3de7ac25f4f"
      },
      "source": [
        "#Loop 迴圈邏輯\n",
        "\n",
        "zoo_animals = [\"Dog\", \"Cat\", \"Bird\",\"Tiger\", \"Elephant\"];\n",
        "#1\n",
        "#print (zoo_animals[0])\n",
        "#print (zoo_animals[1])\n",
        "#print (zoo_animals[2])\n",
        "#print (zoo_animals[3])\n",
        "#print (zoo_animals[4])\n",
        "\n",
        "#2\n",
        "print(zoo_animals[0:])\n",
        "\n",
        "#3\n",
        "for animal in zoo_animals:\n",
        "  print(animal)"
      ],
      "execution_count": null,
      "outputs": [
        {
          "output_type": "stream",
          "name": "stdout",
          "text": [
            "['Dog', 'Cat', 'Bird', 'Tiger', 'Elephant']\n",
            "Dog\n",
            "Cat\n",
            "Bird\n",
            "Tiger\n",
            "Elephant\n"
          ]
        }
      ]
    },
    {
      "cell_type": "code",
      "source": [
        "# math\n",
        "\n",
        "a = 5\n",
        "b = 6\n",
        "c = 8\n",
        "d = 9\n",
        "\n",
        "\n",
        "# 每個紅利(數字)都要兩倍\n",
        "\n",
        "#print(a * 2)\n",
        "#print(b * 2)\n",
        "#print(c * 2)\n",
        "#print(d * 2)\n",
        "\n",
        "\n",
        "num_list = [5, 6, 8, 9]\n",
        "\n",
        "for x in num_list:\n",
        "  print(x * 2)\n",
        "\n"
      ],
      "metadata": {
        "colab": {
          "base_uri": "https://localhost:8080/"
        },
        "id": "dNz7HFEIKIok",
        "outputId": "a5365bb7-922b-4bb1-99d7-f45d557ba2be"
      },
      "execution_count": null,
      "outputs": [
        {
          "output_type": "stream",
          "name": "stdout",
          "text": [
            "10\n",
            "12\n",
            "16\n",
            "18\n"
          ]
        }
      ]
    },
    {
      "cell_type": "code",
      "source": [
        "# 練習\n",
        "\n",
        "zoo_animals_1 = [\"Dog\", \"Cat\", \"Bird\",\"Tiger\", \"Elephant\"];\n",
        "zoo_animals_2 =  [\"Dog\"]\n",
        "\n",
        "\n",
        "# 檢查 Animals 裡面有沒有 Tiger ，如果有的話 print (\"yes\") , 沒有的話 print (\"no\")\n",
        "\n",
        "\n",
        "\n",
        "\n",
        "# for loop\n",
        "# if else\n",
        "\n",
        "def isTiger(animals):\n",
        "  tiger = 'Tiger'\n",
        "  check = False\n",
        "  for animal in animals:\n",
        "    if (animal == tiger):\n",
        "      check = True\n",
        "\n",
        "  if(check):\n",
        "    print('yes')\n",
        "  else:\n",
        "    print('no')\n",
        "\n",
        "\n",
        "\n",
        "\n",
        "isTiger(zoo_animals_1) #  yes\n",
        "\n",
        "isTiger(zoo_animals_2) # no"
      ],
      "metadata": {
        "colab": {
          "base_uri": "https://localhost:8080/"
        },
        "id": "WRmaiazKL8c3",
        "outputId": "a3fef1aa-a261-4853-e3e1-5ab765222c45"
      },
      "execution_count": null,
      "outputs": [
        {
          "output_type": "stream",
          "name": "stdout",
          "text": [
            "yes\n",
            "no\n"
          ]
        }
      ]
    },
    {
      "cell_type": "code",
      "metadata": {
        "id": "7U9IPOgXmBxu",
        "colab": {
          "base_uri": "https://localhost:8080/"
        },
        "outputId": "ac4cd99d-7dcb-44cb-9e71-58960656fccb"
      },
      "source": [
        "my_list = [1,9,3,8,5,7]\n",
        "\n",
        "print (my_list[0] * 2)\n",
        "print (my_list[1] * 2)\n",
        "print (my_list[2] * 2)\n",
        "print (my_list[3] * 2)\n",
        "print (my_list[4] * 2)\n",
        "print (my_list[5] * 2)\n",
        "\n",
        "\n",
        "for number in my_list:\n",
        "  print (number * 2)\n"
      ],
      "execution_count": null,
      "outputs": [
        {
          "output_type": "stream",
          "name": "stdout",
          "text": [
            "2\n",
            "18\n",
            "6\n",
            "16\n",
            "10\n",
            "14\n",
            "2\n",
            "18\n",
            "6\n",
            "16\n",
            "10\n",
            "14\n"
          ]
        }
      ]
    },
    {
      "cell_type": "code",
      "metadata": {
        "id": "Yo62k4OE9Fjj",
        "outputId": "c96a6e98-a3c9-4f32-9cb8-aa0f0b346cda",
        "colab": {
          "base_uri": "https://localhost:8080/",
          "height": 106
        }
      },
      "source": [
        "zoo_animals = [\"Dog\", \"Cat\", \"Bird\",\"Tiger\", \"Elephant\"];\n",
        "\n",
        "#練習 使用for迴圈 print出裡面的動物\n",
        "\n",
        "for ... in zoo_animals:\n"
      ],
      "execution_count": null,
      "outputs": [
        {
          "output_type": "error",
          "ename": "SyntaxError",
          "evalue": "cannot assign to ellipsis (<ipython-input-56-340f3eb2cab1>, line 5)",
          "traceback": [
            "\u001b[0;36m  File \u001b[0;32m\"<ipython-input-56-340f3eb2cab1>\"\u001b[0;36m, line \u001b[0;32m5\u001b[0m\n\u001b[0;31m    for ... in zoo_animals:\u001b[0m\n\u001b[0m        ^\u001b[0m\n\u001b[0;31mSyntaxError\u001b[0m\u001b[0;31m:\u001b[0m cannot assign to ellipsis\n"
          ]
        }
      ]
    },
    {
      "cell_type": "code",
      "source": [
        "\n",
        "'''\n",
        "hint:\n",
        "\n",
        "def wordTransForm(string1, string2):\n",
        "  return ...\n",
        "\n",
        "wordTransForm()\n",
        "'''\n",
        "def wordTransForm(string1, string2):\n",
        "  return string1.upper()+string2.upper()"
      ],
      "metadata": {
        "id": "fkhilkobpMer"
      },
      "execution_count": null,
      "outputs": []
    },
    {
      "cell_type": "code",
      "source": [
        "string_1 = \"test\"\n",
        "print(string_1.lower())"
      ],
      "metadata": {
        "colab": {
          "base_uri": "https://localhost:8080/"
        },
        "id": "gUkztqllsEvz",
        "outputId": "b9011f20-6cc2-4a79-c071-85cd34ec6706"
      },
      "execution_count": null,
      "outputs": [
        {
          "output_type": "stream",
          "name": "stdout",
          "text": [
            "test\n"
          ]
        }
      ]
    },
    {
      "cell_type": "code",
      "source": [
        "# prompt: zoo_animals = [\"Dog\", \"Cat\", \"Bird\",\"Tiger\", \"Elephant\"];\n",
        "# #練習 使用for迴圈 print出裡面的動物\n",
        "# for animal in  zoo_animals:\n",
        "#        print (animal)\n",
        "\n",
        "def wordTransForm(string1, string2):\n",
        "  return string1.upper() + string2.upper()\n"
      ],
      "metadata": {
        "id": "y86HxninxI84"
      },
      "execution_count": null,
      "outputs": []
    },
    {
      "cell_type": "code",
      "source": [
        "import nltk#use python library\n",
        "nltk.download(\"popular\")\n",
        "nltk.download(\"all-corpora\")\n",
        "nltk.download(\"punkt\")"
      ],
      "metadata": {
        "colab": {
          "base_uri": "https://localhost:8080/",
          "height": 1000
        },
        "id": "oTG8sLUjzl1I",
        "outputId": "70455ada-b6e2-4ef6-8f65-8879cd297a5b"
      },
      "execution_count": null,
      "outputs": [
        {
          "output_type": "stream",
          "name": "stderr",
          "text": [
            "[nltk_data] Downloading collection 'popular'\n",
            "[nltk_data]    | \n",
            "[nltk_data]    | Downloading package cmudict to /root/nltk_data...\n",
            "[nltk_data]    |   Package cmudict is already up-to-date!\n",
            "[nltk_data]    | Downloading package gazetteers to /root/nltk_data...\n",
            "[nltk_data]    |   Package gazetteers is already up-to-date!\n",
            "[nltk_data]    | Downloading package genesis to /root/nltk_data...\n",
            "[nltk_data]    |   Package genesis is already up-to-date!\n",
            "[nltk_data]    | Downloading package gutenberg to /root/nltk_data...\n",
            "[nltk_data]    |   Package gutenberg is already up-to-date!\n",
            "[nltk_data]    | Downloading package inaugural to /root/nltk_data...\n",
            "[nltk_data]    |   Package inaugural is already up-to-date!\n",
            "[nltk_data]    | Downloading package movie_reviews to\n",
            "[nltk_data]    |     /root/nltk_data...\n",
            "[nltk_data]    |   Package movie_reviews is already up-to-date!\n",
            "[nltk_data]    | Downloading package names to /root/nltk_data...\n",
            "[nltk_data]    |   Package names is already up-to-date!\n",
            "[nltk_data]    | Downloading package shakespeare to /root/nltk_data...\n",
            "[nltk_data]    |   Package shakespeare is already up-to-date!\n",
            "[nltk_data]    | Downloading package stopwords to /root/nltk_data...\n",
            "[nltk_data]    |   Package stopwords is already up-to-date!\n",
            "[nltk_data]    | Downloading package treebank to /root/nltk_data...\n",
            "[nltk_data]    |   Package treebank is already up-to-date!\n",
            "[nltk_data]    | Downloading package twitter_samples to\n",
            "[nltk_data]    |     /root/nltk_data...\n",
            "[nltk_data]    |   Package twitter_samples is already up-to-date!\n",
            "[nltk_data]    | Downloading package omw to /root/nltk_data...\n",
            "[nltk_data]    |   Package omw is already up-to-date!\n",
            "[nltk_data]    | Downloading package omw-1.4 to /root/nltk_data...\n",
            "[nltk_data]    |   Package omw-1.4 is already up-to-date!\n",
            "[nltk_data]    | Downloading package wordnet to /root/nltk_data...\n",
            "[nltk_data]    |   Package wordnet is already up-to-date!\n",
            "[nltk_data]    | Downloading package wordnet2021 to /root/nltk_data...\n",
            "[nltk_data]    |   Package wordnet2021 is already up-to-date!\n",
            "[nltk_data]    | Downloading package wordnet31 to /root/nltk_data...\n",
            "[nltk_data]    |   Package wordnet31 is already up-to-date!\n",
            "[nltk_data]    | Downloading package wordnet_ic to /root/nltk_data...\n",
            "[nltk_data]    |   Package wordnet_ic is already up-to-date!\n",
            "[nltk_data]    | Downloading package words to /root/nltk_data...\n",
            "[nltk_data]    |   Package words is already up-to-date!\n",
            "[nltk_data]    | Downloading package maxent_ne_chunker to\n",
            "[nltk_data]    |     /root/nltk_data...\n",
            "[nltk_data]    |   Package maxent_ne_chunker is already up-to-date!\n",
            "[nltk_data]    | Downloading package punkt to /root/nltk_data...\n",
            "[nltk_data]    |   Package punkt is already up-to-date!\n",
            "[nltk_data]    | Downloading package snowball_data to\n",
            "[nltk_data]    |     /root/nltk_data...\n",
            "[nltk_data]    |   Package snowball_data is already up-to-date!\n",
            "[nltk_data]    | Downloading package averaged_perceptron_tagger to\n",
            "[nltk_data]    |     /root/nltk_data...\n",
            "[nltk_data]    |   Package averaged_perceptron_tagger is already up-\n",
            "[nltk_data]    |       to-date!\n",
            "[nltk_data]    | \n",
            "[nltk_data]  Done downloading collection popular\n",
            "[nltk_data] Downloading collection 'all-corpora'\n",
            "[nltk_data]    | \n",
            "[nltk_data]    | Downloading package abc to /root/nltk_data...\n",
            "[nltk_data]    |   Package abc is already up-to-date!\n",
            "[nltk_data]    | Downloading package alpino to /root/nltk_data...\n",
            "[nltk_data]    |   Package alpino is already up-to-date!\n",
            "[nltk_data]    | Downloading package bcp47 to /root/nltk_data...\n",
            "[nltk_data]    |   Package bcp47 is already up-to-date!\n",
            "[nltk_data]    | Downloading package biocreative_ppi to\n",
            "[nltk_data]    |     /root/nltk_data...\n",
            "[nltk_data]    |   Package biocreative_ppi is already up-to-date!\n",
            "[nltk_data]    | Downloading package brown to /root/nltk_data...\n",
            "[nltk_data]    |   Package brown is already up-to-date!\n",
            "[nltk_data]    | Downloading package brown_tei to /root/nltk_data...\n",
            "[nltk_data]    |   Package brown_tei is already up-to-date!\n",
            "[nltk_data]    | Downloading package cess_cat to /root/nltk_data...\n",
            "[nltk_data]    |   Package cess_cat is already up-to-date!\n",
            "[nltk_data]    | Downloading package cess_esp to /root/nltk_data...\n",
            "[nltk_data]    |   Package cess_esp is already up-to-date!\n",
            "[nltk_data]    | Downloading package chat80 to /root/nltk_data...\n",
            "[nltk_data]    |   Package chat80 is already up-to-date!\n",
            "[nltk_data]    | Downloading package city_database to\n",
            "[nltk_data]    |     /root/nltk_data...\n",
            "[nltk_data]    |   Package city_database is already up-to-date!\n",
            "[nltk_data]    | Downloading package cmudict to /root/nltk_data...\n",
            "[nltk_data]    |   Package cmudict is already up-to-date!\n",
            "[nltk_data]    | Downloading package comparative_sentences to\n",
            "[nltk_data]    |     /root/nltk_data...\n",
            "[nltk_data]    |   Package comparative_sentences is already up-to-\n",
            "[nltk_data]    |       date!\n",
            "[nltk_data]    | Downloading package comtrans to /root/nltk_data...\n",
            "[nltk_data]    |   Package comtrans is already up-to-date!\n",
            "[nltk_data]    | Downloading package conll2000 to /root/nltk_data...\n",
            "[nltk_data]    |   Package conll2000 is already up-to-date!\n",
            "[nltk_data]    | Downloading package conll2002 to /root/nltk_data...\n",
            "[nltk_data]    |   Package conll2002 is already up-to-date!\n",
            "[nltk_data]    | Downloading package conll2007 to /root/nltk_data...\n",
            "[nltk_data]    |   Package conll2007 is already up-to-date!\n",
            "[nltk_data]    | Downloading package crubadan to /root/nltk_data...\n",
            "[nltk_data]    |   Package crubadan is already up-to-date!\n",
            "[nltk_data]    | Downloading package dependency_treebank to\n",
            "[nltk_data]    |     /root/nltk_data...\n",
            "[nltk_data]    |   Package dependency_treebank is already up-to-date!\n",
            "[nltk_data]    | Downloading package dolch to /root/nltk_data...\n",
            "[nltk_data]    |   Package dolch is already up-to-date!\n",
            "[nltk_data]    | Downloading package english_wordnet to\n",
            "[nltk_data]    |     /root/nltk_data...\n",
            "[nltk_data]    |   Package english_wordnet is already up-to-date!\n",
            "[nltk_data]    | Downloading package europarl_raw to\n",
            "[nltk_data]    |     /root/nltk_data...\n",
            "[nltk_data]    |   Package europarl_raw is already up-to-date!\n",
            "[nltk_data]    | Downloading package extended_omw to\n",
            "[nltk_data]    |     /root/nltk_data...\n",
            "[nltk_data]    |   Package extended_omw is already up-to-date!\n",
            "[nltk_data]    | Downloading package floresta to /root/nltk_data...\n",
            "[nltk_data]    |   Package floresta is already up-to-date!\n",
            "[nltk_data]    | Downloading package framenet_v15 to\n",
            "[nltk_data]    |     /root/nltk_data...\n",
            "[nltk_data]    |   Package framenet_v15 is already up-to-date!\n",
            "[nltk_data]    | Downloading package framenet_v17 to\n",
            "[nltk_data]    |     /root/nltk_data...\n",
            "[nltk_data]    |   Package framenet_v17 is already up-to-date!\n",
            "[nltk_data]    | Downloading package gazetteers to /root/nltk_data...\n",
            "[nltk_data]    |   Package gazetteers is already up-to-date!\n",
            "[nltk_data]    | Downloading package genesis to /root/nltk_data...\n",
            "[nltk_data]    |   Package genesis is already up-to-date!\n",
            "[nltk_data]    | Downloading package gutenberg to /root/nltk_data...\n",
            "[nltk_data]    |   Package gutenberg is already up-to-date!\n",
            "[nltk_data]    | Downloading package ieer to /root/nltk_data...\n",
            "[nltk_data]    |   Package ieer is already up-to-date!\n",
            "[nltk_data]    | Downloading package inaugural to /root/nltk_data...\n",
            "[nltk_data]    |   Package inaugural is already up-to-date!\n",
            "[nltk_data]    | Downloading package indian to /root/nltk_data...\n",
            "[nltk_data]    |   Package indian is already up-to-date!\n",
            "[nltk_data]    | Downloading package jeita to /root/nltk_data...\n",
            "[nltk_data]    |   Package jeita is already up-to-date!\n",
            "[nltk_data]    | Downloading package kimmo to /root/nltk_data...\n",
            "[nltk_data]    |   Package kimmo is already up-to-date!\n",
            "[nltk_data]    | Downloading package knbc to /root/nltk_data...\n",
            "[nltk_data]    |   Package knbc is already up-to-date!\n",
            "[nltk_data]    | Downloading package lin_thesaurus to\n",
            "[nltk_data]    |     /root/nltk_data...\n",
            "[nltk_data]    |   Package lin_thesaurus is already up-to-date!\n",
            "[nltk_data]    | Downloading package mac_morpho to /root/nltk_data...\n",
            "[nltk_data]    |   Package mac_morpho is already up-to-date!\n",
            "[nltk_data]    | Downloading package machado to /root/nltk_data...\n",
            "[nltk_data]    |   Package machado is already up-to-date!\n",
            "[nltk_data]    | Downloading package masc_tagged to /root/nltk_data...\n",
            "[nltk_data]    |   Package masc_tagged is already up-to-date!\n",
            "[nltk_data]    | Downloading package movie_reviews to\n",
            "[nltk_data]    |     /root/nltk_data...\n",
            "[nltk_data]    |   Package movie_reviews is already up-to-date!\n",
            "[nltk_data]    | Downloading package mte_teip5 to /root/nltk_data...\n",
            "[nltk_data]    |   Package mte_teip5 is already up-to-date!\n",
            "[nltk_data]    | Downloading package names to /root/nltk_data...\n",
            "[nltk_data]    |   Package names is already up-to-date!\n",
            "[nltk_data]    | Downloading package nombank.1.0 to /root/nltk_data...\n",
            "[nltk_data]    |   Package nombank.1.0 is already up-to-date!\n",
            "[nltk_data]    | Downloading package nonbreaking_prefixes to\n",
            "[nltk_data]    |     /root/nltk_data...\n",
            "[nltk_data]    |   Package nonbreaking_prefixes is already up-to-date!\n",
            "[nltk_data]    | Downloading package nps_chat to /root/nltk_data...\n",
            "[nltk_data]    |   Package nps_chat is already up-to-date!\n",
            "[nltk_data]    | Downloading package omw to /root/nltk_data...\n",
            "[nltk_data]    |   Package omw is already up-to-date!\n",
            "[nltk_data]    | Downloading package omw-1.4 to /root/nltk_data...\n",
            "[nltk_data]    |   Package omw-1.4 is already up-to-date!\n",
            "[nltk_data]    | Downloading package opinion_lexicon to\n",
            "[nltk_data]    |     /root/nltk_data...\n",
            "[nltk_data]    |   Package opinion_lexicon is already up-to-date!\n",
            "[nltk_data]    | Downloading package panlex_swadesh to\n",
            "[nltk_data]    |     /root/nltk_data...\n",
            "[nltk_data]    |   Package panlex_swadesh is already up-to-date!\n",
            "[nltk_data]    | Downloading package paradigms to /root/nltk_data...\n",
            "[nltk_data]    |   Package paradigms is already up-to-date!\n",
            "[nltk_data]    | Downloading package pe08 to /root/nltk_data...\n",
            "[nltk_data]    |   Package pe08 is already up-to-date!\n",
            "[nltk_data]    | Downloading package pil to /root/nltk_data...\n",
            "[nltk_data]    |   Package pil is already up-to-date!\n",
            "[nltk_data]    | Downloading package pl196x to /root/nltk_data...\n",
            "[nltk_data]    |   Package pl196x is already up-to-date!\n",
            "[nltk_data]    | Downloading package ppattach to /root/nltk_data...\n",
            "[nltk_data]    |   Package ppattach is already up-to-date!\n",
            "[nltk_data]    | Downloading package problem_reports to\n",
            "[nltk_data]    |     /root/nltk_data...\n",
            "[nltk_data]    |   Package problem_reports is already up-to-date!\n",
            "[nltk_data]    | Downloading package product_reviews_1 to\n",
            "[nltk_data]    |     /root/nltk_data...\n",
            "[nltk_data]    |   Package product_reviews_1 is already up-to-date!\n",
            "[nltk_data]    | Downloading package product_reviews_2 to\n",
            "[nltk_data]    |     /root/nltk_data...\n",
            "[nltk_data]    |   Package product_reviews_2 is already up-to-date!\n",
            "[nltk_data]    | Downloading package propbank to /root/nltk_data...\n",
            "[nltk_data]    |   Package propbank is already up-to-date!\n",
            "[nltk_data]    | Downloading package pros_cons to /root/nltk_data...\n",
            "[nltk_data]    |   Package pros_cons is already up-to-date!\n",
            "[nltk_data]    | Downloading package ptb to /root/nltk_data...\n",
            "[nltk_data]    |   Package ptb is already up-to-date!\n",
            "[nltk_data]    | Downloading package qc to /root/nltk_data...\n",
            "[nltk_data]    |   Package qc is already up-to-date!\n",
            "[nltk_data]    | Downloading package reuters to /root/nltk_data...\n",
            "[nltk_data]    |   Package reuters is already up-to-date!\n",
            "[nltk_data]    | Downloading package rte to /root/nltk_data...\n",
            "[nltk_data]    |   Package rte is already up-to-date!\n",
            "[nltk_data]    | Downloading package semcor to /root/nltk_data...\n",
            "[nltk_data]    |   Package semcor is already up-to-date!\n",
            "[nltk_data]    | Downloading package senseval to /root/nltk_data...\n",
            "[nltk_data]    |   Package senseval is already up-to-date!\n",
            "[nltk_data]    | Downloading package sentence_polarity to\n",
            "[nltk_data]    |     /root/nltk_data...\n",
            "[nltk_data]    |   Package sentence_polarity is already up-to-date!\n",
            "[nltk_data]    | Downloading package sentiwordnet to\n",
            "[nltk_data]    |     /root/nltk_data...\n",
            "[nltk_data]    |   Package sentiwordnet is already up-to-date!\n",
            "[nltk_data]    | Downloading package shakespeare to /root/nltk_data...\n",
            "[nltk_data]    |   Package shakespeare is already up-to-date!\n",
            "[nltk_data]    | Downloading package sinica_treebank to\n",
            "[nltk_data]    |     /root/nltk_data...\n",
            "[nltk_data]    |   Package sinica_treebank is already up-to-date!\n",
            "[nltk_data]    | Downloading package smultron to /root/nltk_data...\n",
            "[nltk_data]    |   Package smultron is already up-to-date!\n",
            "[nltk_data]    | Downloading package state_union to /root/nltk_data...\n",
            "[nltk_data]    |   Package state_union is already up-to-date!\n",
            "[nltk_data]    | Downloading package stopwords to /root/nltk_data...\n",
            "[nltk_data]    |   Package stopwords is already up-to-date!\n",
            "[nltk_data]    | Downloading package subjectivity to\n",
            "[nltk_data]    |     /root/nltk_data...\n",
            "[nltk_data]    |   Package subjectivity is already up-to-date!\n",
            "[nltk_data]    | Downloading package swadesh to /root/nltk_data...\n",
            "[nltk_data]    |   Package swadesh is already up-to-date!\n",
            "[nltk_data]    | Downloading package switchboard to /root/nltk_data...\n",
            "[nltk_data]    |   Package switchboard is already up-to-date!\n",
            "[nltk_data]    | Downloading package timit to /root/nltk_data...\n",
            "[nltk_data]    |   Package timit is already up-to-date!\n",
            "[nltk_data]    | Downloading package toolbox to /root/nltk_data...\n",
            "[nltk_data]    |   Package toolbox is already up-to-date!\n",
            "[nltk_data]    | Downloading package treebank to /root/nltk_data...\n",
            "[nltk_data]    |   Package treebank is already up-to-date!\n",
            "[nltk_data]    | Downloading package twitter_samples to\n",
            "[nltk_data]    |     /root/nltk_data...\n",
            "[nltk_data]    |   Package twitter_samples is already up-to-date!\n",
            "[nltk_data]    | Downloading package udhr to /root/nltk_data...\n",
            "[nltk_data]    |   Package udhr is already up-to-date!\n",
            "[nltk_data]    | Downloading package udhr2 to /root/nltk_data...\n",
            "[nltk_data]    |   Package udhr2 is already up-to-date!\n",
            "[nltk_data]    | Downloading package unicode_samples to\n",
            "[nltk_data]    |     /root/nltk_data...\n",
            "[nltk_data]    |   Package unicode_samples is already up-to-date!\n",
            "[nltk_data]    | Downloading package universal_treebanks_v20 to\n",
            "[nltk_data]    |     /root/nltk_data...\n",
            "[nltk_data]    |   Package universal_treebanks_v20 is already up-to-\n",
            "[nltk_data]    |       date!\n",
            "[nltk_data]    | Downloading package verbnet to /root/nltk_data...\n",
            "[nltk_data]    |   Package verbnet is already up-to-date!\n",
            "[nltk_data]    | Downloading package verbnet3 to /root/nltk_data...\n",
            "[nltk_data]    |   Package verbnet3 is already up-to-date!\n",
            "[nltk_data]    | Downloading package webtext to /root/nltk_data...\n",
            "[nltk_data]    |   Package webtext is already up-to-date!\n",
            "[nltk_data]    | Downloading package wordnet to /root/nltk_data...\n",
            "[nltk_data]    |   Package wordnet is already up-to-date!\n",
            "[nltk_data]    | Downloading package wordnet2021 to /root/nltk_data...\n",
            "[nltk_data]    |   Package wordnet2021 is already up-to-date!\n",
            "[nltk_data]    | Downloading package wordnet2022 to /root/nltk_data...\n",
            "[nltk_data]    |   Package wordnet2022 is already up-to-date!\n",
            "[nltk_data]    | Downloading package wordnet31 to /root/nltk_data...\n",
            "[nltk_data]    |   Package wordnet31 is already up-to-date!\n",
            "[nltk_data]    | Downloading package wordnet_ic to /root/nltk_data...\n",
            "[nltk_data]    |   Package wordnet_ic is already up-to-date!\n",
            "[nltk_data]    | Downloading package words to /root/nltk_data...\n",
            "[nltk_data]    |   Package words is already up-to-date!\n",
            "[nltk_data]    | Downloading package ycoe to /root/nltk_data...\n",
            "[nltk_data]    |   Package ycoe is already up-to-date!\n",
            "[nltk_data]    | \n",
            "[nltk_data]  Done downloading collection all-corpora\n",
            "[nltk_data] Downloading package punkt to /root/nltk_data...\n",
            "[nltk_data]   Package punkt is already up-to-date!\n"
          ]
        },
        {
          "output_type": "error",
          "ename": "NameError",
          "evalue": "name 'text3' is not defined",
          "traceback": [
            "\u001b[0;31m---------------------------------------------------------------------------\u001b[0m",
            "\u001b[0;31mNameError\u001b[0m                                 Traceback (most recent call last)",
            "\u001b[0;32m<ipython-input-14-a65f24e2bdac>\u001b[0m in \u001b[0;36m<cell line: 0>\u001b[0;34m()\u001b[0m\n\u001b[1;32m      3\u001b[0m \u001b[0mnltk\u001b[0m\u001b[0;34m.\u001b[0m\u001b[0mdownload\u001b[0m\u001b[0;34m(\u001b[0m\u001b[0;34m\"all-corpora\"\u001b[0m\u001b[0;34m)\u001b[0m\u001b[0;34m\u001b[0m\u001b[0;34m\u001b[0m\u001b[0m\n\u001b[1;32m      4\u001b[0m \u001b[0mnltk\u001b[0m\u001b[0;34m.\u001b[0m\u001b[0mdownload\u001b[0m\u001b[0;34m(\u001b[0m\u001b[0;34m\"punkt\"\u001b[0m\u001b[0;34m)\u001b[0m\u001b[0;34m\u001b[0m\u001b[0;34m\u001b[0m\u001b[0m\n\u001b[0;32m----> 5\u001b[0;31m \u001b[0mtext3\u001b[0m\u001b[0;34m.\u001b[0m\u001b[0mcount\u001b[0m\u001b[0;34m(\u001b[0m\u001b[0;34m\"lived\"\u001b[0m\u001b[0;34m)\u001b[0m\u001b[0;34m\u001b[0m\u001b[0;34m\u001b[0m\u001b[0m\n\u001b[0m",
            "\u001b[0;31mNameError\u001b[0m: name 'text3' is not defined"
          ]
        }
      ]
    },
    {
      "cell_type": "code",
      "source": [
        "text3.count(\"lived\")\n",
        "text4.count(\"lived\")"
      ],
      "metadata": {
        "id": "ZZAzc-HS2Ayf"
      },
      "execution_count": null,
      "outputs": []
    }
  ]
}